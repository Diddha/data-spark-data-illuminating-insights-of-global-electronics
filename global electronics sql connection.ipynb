{
 "cells": [
  {
   "cell_type": "code",
   "execution_count": 5,
   "id": "0e261e82-68e0-47a4-bec6-85747227f8de",
   "metadata": {},
   "outputs": [
    {
     "name": "stdout",
     "output_type": "stream",
     "text": [
      "Collecting pymysql\n",
      "  Using cached PyMySQL-1.1.1-py3-none-any.whl.metadata (4.4 kB)\n",
      "Using cached PyMySQL-1.1.1-py3-none-any.whl (44 kB)\n",
      "Installing collected packages: pymysql\n",
      "Successfully installed pymysql-1.1.1\n"
     ]
    }
   ],
   "source": [
    "!pip install pymysql\n",
    "#import packages\n",
    "from sqlalchemy import create_engine,text\n",
    "from sqlalchemy import DECIMAL\n",
    "import pandas as pd\n",
    "\n",
    "#define variables\n",
    "username = 'diddha'\n",
    "password = 'diddha#300396'\n",
    "host = 'localhost'\n",
    "port = '3306'\n",
    "database = 'global_electronics'"
   ]
  },
  {
   "cell_type": "code",
   "execution_count": 7,
   "id": "01ba7d43-2349-4ca9-891a-6a3a24730882",
   "metadata": {},
   "outputs": [],
   "source": [
    "# Step 1: Now connect to the newly created/existing database\n",
    "engine = create_engine(f'mysql+pymysql://{username}:{password}@{host}:{port}')"
   ]
  },
  {
   "cell_type": "code",
   "execution_count": 9,
   "id": "1149152e-d2e1-432e-beb3-a164572f56e0",
   "metadata": {},
   "outputs": [
    {
     "name": "stdout",
     "output_type": "stream",
     "text": [
      "Database 'global_electronics' created or already exists.\n"
     ]
    }
   ],
   "source": [
    "# Step 2: Create the database if it doesn't exist\n",
    "with engine.connect() as connection:\n",
    "    database_query = f\"CREATE DATABASE IF NOT EXISTS {database}\"\n",
    "    connection.execute(text(database_query))\n",
    "    print(f\"Database '{database}' created or already exists.\")"
   ]
  },
  {
   "cell_type": "code",
   "execution_count": 11,
   "id": "ac6b7d4b-8d90-4405-8789-f619a7961dc1",
   "metadata": {},
   "outputs": [],
   "source": [
    "# Step 3: Now connect to the newly created/existing database\n",
    "engine = create_engine(f'mysql+pymysql://{username}:{password}@{host}:{port}/{database}')"
   ]
  },
  {
   "cell_type": "code",
   "execution_count": 21,
   "id": "aa1b1260-5ba6-422e-8ea8-f7aeca611aba",
   "metadata": {},
   "outputs": [],
   "source": [
    "stores_df=pd.read_csv(r'C:\\Users\\HP\\Desktop\\cleaned dataset/stores.csv')\n",
    "sales_df=pd.read_csv(r'C:\\Users\\HP\\Desktop\\cleaned dataset\\sales.csv')\n",
    "products_df=pd.read_csv(r'C:\\Users\\HP\\Desktop\\cleaned dataset\\products.csv')\n",
    "customers_df=pd.read_csv(r'C:\\Users\\HP\\Desktop\\cleaned dataset\\customers.csv')\n",
    "rates_df=pd.read_csv(r'C:\\Users\\HP\\Desktop\\cleaned dataset\\customers.csv')\n"
   ]
  },
  {
   "cell_type": "code",
   "execution_count": 23,
   "id": "9901e534-afab-4ac7-81db-2d8765b3ace8",
   "metadata": {},
   "outputs": [],
   "source": [
    "final_df = pd.concat([stores_df, sales_df, products_df, customers_df, rates_df], ignore_index=True)\n"
   ]
  },
  {
   "cell_type": "code",
   "execution_count": 25,
   "id": "2a697353-8be3-43b0-b19f-0bf9756d4183",
   "metadata": {},
   "outputs": [
    {
     "name": "stdout",
     "output_type": "stream",
     "text": [
      "Data successfully loaded into the SQL table 'combined_table'.\n"
     ]
    }
   ],
   "source": [
    "# Load the combined DataFrame into the SQL table\n",
    "final_df.to_sql(\n",
    "    'combined_table',\n",
    "    con=engine,\n",
    "    if_exists='replace',\n",
    "    index=False\n",
    ")\n",
    "\n",
    "print(\"Data successfully loaded into the SQL table 'combined_table'.\")"
   ]
  },
  {
   "cell_type": "code",
   "execution_count": null,
   "id": "012e2ffa-0059-4936-886a-0decc1020c69",
   "metadata": {},
   "outputs": [],
   "source": []
  }
 ],
 "metadata": {
  "kernelspec": {
   "display_name": "Python 3 (ipykernel)",
   "language": "python",
   "name": "python3"
  },
  "language_info": {
   "codemirror_mode": {
    "name": "ipython",
    "version": 3
   },
   "file_extension": ".py",
   "mimetype": "text/x-python",
   "name": "python",
   "nbconvert_exporter": "python",
   "pygments_lexer": "ipython3",
   "version": "3.12.4"
  }
 },
 "nbformat": 4,
 "nbformat_minor": 5
}
